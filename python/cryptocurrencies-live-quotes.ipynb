{
 "cells": [
  {
   "cell_type": "markdown",
   "source": [
    "## Install the minimum requirements"
   ],
   "metadata": {
    "collapsed": false,
    "pycharm": {
     "name": "#%% md\n"
    }
   }
  },
  {
   "cell_type": "code",
   "execution_count": 1,
   "outputs": [
    {
     "name": "stdout",
     "output_type": "stream",
     "text": [
      "Collecting git+https://github.com/equibles/websockets-python.git\r\n",
      "  Cloning https://github.com/equibles/websockets-python.git to /private/var/folders/b9/x58v0yzn5nb_stwz5w9mzh1r0000gn/T/pip-req-build-u4t14gla\r\n",
      "  Running command git clone -q https://github.com/equibles/websockets-python.git /private/var/folders/b9/x58v0yzn5nb_stwz5w9mzh1r0000gn/T/pip-req-build-u4t14gla\r\n",
      "  Resolved https://github.com/equibles/websockets-python.git to commit 32c0e388e6d1af67a1b3d3ddb52403fe15a4023c\r\n",
      "Requirement already satisfied: signalrcore>=0.9.2 in /usr/local/Caskroom/miniconda/base/envs/Transformers/lib/python3.9/site-packages (from equibles-websockets==1.0.0) (0.9.2)\r\n",
      "Requirement already satisfied: msgpack==1.0.2 in /usr/local/Caskroom/miniconda/base/envs/Transformers/lib/python3.9/site-packages (from signalrcore>=0.9.2->equibles-websockets==1.0.0) (1.0.2)\r\n",
      "Requirement already satisfied: websocket-client==0.54.0 in /usr/local/Caskroom/miniconda/base/envs/Transformers/lib/python3.9/site-packages (from signalrcore>=0.9.2->equibles-websockets==1.0.0) (0.54.0)\r\n",
      "Requirement already satisfied: requests>=2.22.0 in /usr/local/Caskroom/miniconda/base/envs/Transformers/lib/python3.9/site-packages (from signalrcore>=0.9.2->equibles-websockets==1.0.0) (2.27.1)\r\n",
      "Requirement already satisfied: six in /usr/local/Caskroom/miniconda/base/envs/Transformers/lib/python3.9/site-packages (from websocket-client==0.54.0->signalrcore>=0.9.2->equibles-websockets==1.0.0) (1.16.0)\r\n",
      "Requirement already satisfied: certifi>=2017.4.17 in /usr/local/Caskroom/miniconda/base/envs/Transformers/lib/python3.9/site-packages (from requests>=2.22.0->signalrcore>=0.9.2->equibles-websockets==1.0.0) (2021.10.8)\r\n",
      "Requirement already satisfied: charset-normalizer~=2.0.0 in /usr/local/Caskroom/miniconda/base/envs/Transformers/lib/python3.9/site-packages (from requests>=2.22.0->signalrcore>=0.9.2->equibles-websockets==1.0.0) (2.0.11)\r\n",
      "Requirement already satisfied: idna<4,>=2.5 in /usr/local/Caskroom/miniconda/base/envs/Transformers/lib/python3.9/site-packages (from requests>=2.22.0->signalrcore>=0.9.2->equibles-websockets==1.0.0) (3.3)\r\n",
      "Requirement already satisfied: urllib3<1.27,>=1.21.1 in /usr/local/Caskroom/miniconda/base/envs/Transformers/lib/python3.9/site-packages (from requests>=2.22.0->signalrcore>=0.9.2->equibles-websockets==1.0.0) (1.26.8)\r\n"
     ]
    }
   ],
   "source": [
    "!pip install git+https://github.com/equibles/websockets-python.git"
   ],
   "metadata": {
    "collapsed": false,
    "pycharm": {
     "name": "#%%\n"
    }
   }
  },
  {
   "cell_type": "markdown",
   "source": [
    "## Create a client and start listening to live quotes"
   ],
   "metadata": {
    "collapsed": false,
    "pycharm": {
     "name": "#%% md\n"
    }
   }
  },
  {
   "cell_type": "markdown",
   "source": [
    "You should start by creating a websockets client using the class \"EquiblesWebSocketsClient\".\n",
    "On the \"tickers\" argument o can pass a list of all the tickers you want to receive quotes.\n",
    "If you want to stop receiving quotes for a ticker you should call the method \"stop_listening\" on the client and give it a list of the tickers you no longer want to receive quotes for.\n",
    "If you want to start to receive quotes for new tickers you can call the method \"start_listening\" on the client and git it a list of the new tickers you want to receive quotes for."
   ],
   "metadata": {
    "collapsed": false,
    "pycharm": {
     "name": "#%% md\n"
    }
   }
  },
  {
   "cell_type": "code",
   "execution_count": 2,
   "outputs": [
    {
     "name": "stdout",
     "output_type": "stream",
     "text": [
      "Authentication completed with success\n",
      "The client is now listening to the server...\n",
      "BTC: 41731.49\n",
      "ETH: 3002.59\n",
      "ETH: 3002.59\n",
      "BTC: 41731.5\n",
      "BTC: 41731.51\n",
      "BTC: 41731.51\n",
      "ETH: 3002.6\n",
      "ETH: 3002.6\n",
      "ETH: 3002.61\n",
      "ETH: 3002.61\n",
      "ETH: 3002.61\n",
      "BTC: 41736.04\n",
      "ETH: 3002.61\n",
      "ETH: 3002.61\n",
      "ETH: 3002.61\n",
      "ETH: 3002.62\n",
      "ETH: 3002.96\n",
      "ETH: 3002.68\n",
      "ETH: 3002.67\n",
      "ETH: 3002.96\n",
      "ETH: 3002.97\n",
      "ETH: 3002.97\n",
      "ETH: 3002.98\n",
      "ETH: 3002.99\n",
      "Exited.\n"
     ]
    }
   ],
   "source": [
    "from equibles_websockets import EquiblesWebSocketsClient, endpoints, Quote\n",
    "\n",
    "# Create a websockets client. Replace the string \"MY_API_KEY\" with your own API key.\n",
    "# Use the \"tickers\" argument to choose the tickers you want to listen to. You can listen to as many as you want.\n",
    "client = EquiblesWebSocketsClient(api_key=\"MY_API_KEY\", endpoint=endpoints.CRYPTOS, tickers=[\"BTC\", \"ETH\"], debug=False)\n",
    "client.connect()\n",
    "\n",
    "def do_stuff(quote: Quote):\n",
    "    print(quote.ticker + \": \" + str(quote.price))\n",
    "\n",
    "client.on_quote(do_stuff)\n",
    "\n",
    "input(\"Press enter to exit: \")\n",
    "client.disconnect()\n",
    "print(\"Exited.\")"
   ],
   "metadata": {
    "collapsed": false,
    "pycharm": {
     "name": "#%%\n"
    }
   }
  },
  {
   "cell_type": "code",
   "execution_count": null,
   "outputs": [],
   "source": [],
   "metadata": {
    "collapsed": false,
    "pycharm": {
     "name": "#%%\n"
    }
   }
  }
 ],
 "metadata": {
  "kernelspec": {
   "name": "python3",
   "language": "python",
   "display_name": "Python 3 (ipykernel)"
  },
  "language_info": {
   "codemirror_mode": {
    "name": "ipython",
    "version": 2
   },
   "file_extension": ".py",
   "mimetype": "text/x-python",
   "name": "python",
   "nbconvert_exporter": "python",
   "pygments_lexer": "ipython2",
   "version": "2.7.6"
  }
 },
 "nbformat": 4,
 "nbformat_minor": 0
}